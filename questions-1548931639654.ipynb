{
 "cells": [
  {
   "cell_type": "markdown",
   "metadata": {},
   "source": [
    "<img style=\"float: center;\" src=\"https://github.com/insaid2018/Term-1/blob/master/Images/INSAID_Full%20Logo.png?raw=true\" width=\"240\" height=\"360\" />\n",
    "\n",
    "# ASSIGNMENT\n",
    "## ARIMA Time Series"
   ]
  },
  {
   "cell_type": "markdown",
   "metadata": {},
   "source": [
    "# About the dataset\n",
    "\n",
    "In late 2010, Onion prices shot through the roof and causing grave crisis. Apparently the crisis was caused by lack of rainfall in major onion producing region - Maharashtra and Karnataka and led to large scale hoarding by the traders. The crisis caused political tension in the country and described as \"a grave concern\" by then Prime Minister Manmohan Singh.\n",
    "\n",
    "\n",
    "- BBC Article in Dec 2010 - [Stink over onion crisis is enough to make you cry](http://www.bbc.co.uk/blogs/thereporters/soutikbiswas/2010/12/indias_onion_crisis.html)\n",
    "- Hindu OpEd in Dec 2010 - [The political price of onions](http://www.thehindu.com/opinion/editorial/article977100.ece)\n",
    "\n",
    "![](img/peeling_the_onion_small.png)\n",
    "\n",
    "\n",
    "The purpose of this assignment is to __predict the price of onion in Bangalore using ARIMA.__"
   ]
  },
  {
   "cell_type": "markdown",
   "metadata": {
    "collapsed": true
   },
   "source": [
    "### Preprocessing to get the tidy dataframe"
   ]
  },
  {
   "cell_type": "code",
   "execution_count": 1,
   "metadata": {},
   "outputs": [],
   "source": [
    "# Import the library we need, which is Pandas and Matplotlib\n",
    "import pandas as pd\n",
    "import numpy as np\n",
    "import matplotlib.pyplot as plt\n",
    "%matplotlib inline\n",
    "from matplotlib.pylab import rcParams\n",
    "# Import statsmodel\n",
    "import statsmodels.api as sm\n",
    "import statsmodels.formula.api as smf\n",
    "from statsmodels.tsa.stattools import adfuller"
   ]
  },
  {
   "cell_type": "code",
   "execution_count": 2,
   "metadata": {},
   "outputs": [],
   "source": [
    "# Set some parameters to get good visuals - style to ggplot and size to 15,10\n",
    "plt.style.use('ggplot')\n",
    "plt.rcParams['figure.figsize'] = (10, 5)"
   ]
  },
  {
   "cell_type": "code",
   "execution_count": 3,
   "metadata": {},
   "outputs": [],
   "source": [
    "# Read the csv file of Monthwise Quantity and Price csv file we have.\n",
    "df = pd.read_csv('https://raw.githubusercontent.com/insaid2018/Term-3/master/Data/Assignment/MonthWiseMarketArrivals_Clean.csv')"
   ]
  },
  {
   "cell_type": "code",
   "execution_count": 4,
   "metadata": {
    "_uuid": "1d2a64e9b0d8b8485936e973468b2ccb25e706c2"
   },
   "outputs": [
    {
     "name": "stdout",
     "output_type": "stream",
     "text": [
      "1996-01-01 00:00:00\n"
     ]
    },
    {
     "data": {
      "text/html": [
       "<div>\n",
       "<style scoped>\n",
       "    .dataframe tbody tr th:only-of-type {\n",
       "        vertical-align: middle;\n",
       "    }\n",
       "\n",
       "    .dataframe tbody tr th {\n",
       "        vertical-align: top;\n",
       "    }\n",
       "\n",
       "    .dataframe thead th {\n",
       "        text-align: right;\n",
       "    }\n",
       "</style>\n",
       "<table border=\"1\" class=\"dataframe\">\n",
       "  <thead>\n",
       "    <tr style=\"text-align: right;\">\n",
       "      <th></th>\n",
       "      <th>market</th>\n",
       "      <th>month</th>\n",
       "      <th>year</th>\n",
       "      <th>quantity</th>\n",
       "      <th>priceMin</th>\n",
       "      <th>priceMax</th>\n",
       "      <th>priceMod</th>\n",
       "      <th>state</th>\n",
       "      <th>city</th>\n",
       "      <th>timeIndex</th>\n",
       "    </tr>\n",
       "    <tr>\n",
       "      <th>date</th>\n",
       "      <th></th>\n",
       "      <th></th>\n",
       "      <th></th>\n",
       "      <th></th>\n",
       "      <th></th>\n",
       "      <th></th>\n",
       "      <th></th>\n",
       "      <th></th>\n",
       "      <th></th>\n",
       "      <th></th>\n",
       "    </tr>\n",
       "  </thead>\n",
       "  <tbody>\n",
       "    <tr>\n",
       "      <th>2005-01-01</th>\n",
       "      <td>ABOHAR(PB)</td>\n",
       "      <td>January</td>\n",
       "      <td>2005</td>\n",
       "      <td>2350</td>\n",
       "      <td>404</td>\n",
       "      <td>493</td>\n",
       "      <td>446</td>\n",
       "      <td>PB</td>\n",
       "      <td>ABOHAR</td>\n",
       "      <td>3288 days</td>\n",
       "    </tr>\n",
       "    <tr>\n",
       "      <th>2006-01-01</th>\n",
       "      <td>ABOHAR(PB)</td>\n",
       "      <td>January</td>\n",
       "      <td>2006</td>\n",
       "      <td>900</td>\n",
       "      <td>487</td>\n",
       "      <td>638</td>\n",
       "      <td>563</td>\n",
       "      <td>PB</td>\n",
       "      <td>ABOHAR</td>\n",
       "      <td>3653 days</td>\n",
       "    </tr>\n",
       "    <tr>\n",
       "      <th>2010-01-01</th>\n",
       "      <td>ABOHAR(PB)</td>\n",
       "      <td>January</td>\n",
       "      <td>2010</td>\n",
       "      <td>790</td>\n",
       "      <td>1283</td>\n",
       "      <td>1592</td>\n",
       "      <td>1460</td>\n",
       "      <td>PB</td>\n",
       "      <td>ABOHAR</td>\n",
       "      <td>5114 days</td>\n",
       "    </tr>\n",
       "    <tr>\n",
       "      <th>2011-01-01</th>\n",
       "      <td>ABOHAR(PB)</td>\n",
       "      <td>January</td>\n",
       "      <td>2011</td>\n",
       "      <td>245</td>\n",
       "      <td>3067</td>\n",
       "      <td>3750</td>\n",
       "      <td>3433</td>\n",
       "      <td>PB</td>\n",
       "      <td>ABOHAR</td>\n",
       "      <td>5479 days</td>\n",
       "    </tr>\n",
       "    <tr>\n",
       "      <th>2012-01-01</th>\n",
       "      <td>ABOHAR(PB)</td>\n",
       "      <td>January</td>\n",
       "      <td>2012</td>\n",
       "      <td>1035</td>\n",
       "      <td>523</td>\n",
       "      <td>686</td>\n",
       "      <td>605</td>\n",
       "      <td>PB</td>\n",
       "      <td>ABOHAR</td>\n",
       "      <td>5844 days</td>\n",
       "    </tr>\n",
       "  </tbody>\n",
       "</table>\n",
       "</div>"
      ],
      "text/plain": [
       "                market    month  year  quantity  priceMin  priceMax  priceMod  \\\n",
       "date                                                                            \n",
       "2005-01-01  ABOHAR(PB)  January  2005      2350       404       493       446   \n",
       "2006-01-01  ABOHAR(PB)  January  2006       900       487       638       563   \n",
       "2010-01-01  ABOHAR(PB)  January  2010       790      1283      1592      1460   \n",
       "2011-01-01  ABOHAR(PB)  January  2011       245      3067      3750      3433   \n",
       "2012-01-01  ABOHAR(PB)  January  2012      1035       523       686       605   \n",
       "\n",
       "           state    city timeIndex  \n",
       "date                                \n",
       "2005-01-01    PB  ABOHAR 3288 days  \n",
       "2006-01-01    PB  ABOHAR 3653 days  \n",
       "2010-01-01    PB  ABOHAR 5114 days  \n",
       "2011-01-01    PB  ABOHAR 5479 days  \n",
       "2012-01-01    PB  ABOHAR 5844 days  "
      ]
     },
     "execution_count": 4,
     "metadata": {},
     "output_type": "execute_result"
    }
   ],
   "source": [
    "from datetime import datetime\n",
    "\n",
    "df['date']  =  pd.to_datetime(df['date'],infer_datetime_format = True)             #convert from string to datetime\n",
    "print(df.date.min())\n",
    "# Convert date in datetimedelta figure starting from zero\n",
    "df[\"timeIndex\"] = df.date - df.date.min()\n",
    "df  =  df.set_index(['date'])\n",
    "df.head(5)"
   ]
  },
  {
   "cell_type": "code",
   "execution_count": 5,
   "metadata": {},
   "outputs": [],
   "source": [
    "# Sort the data frame by date\n",
    "df = df.sort_values(by = \"date\")"
   ]
  },
  {
   "cell_type": "code",
   "execution_count": 6,
   "metadata": {},
   "outputs": [
    {
     "data": {
      "text/html": [
       "<div>\n",
       "<style scoped>\n",
       "    .dataframe tbody tr th:only-of-type {\n",
       "        vertical-align: middle;\n",
       "    }\n",
       "\n",
       "    .dataframe tbody tr th {\n",
       "        vertical-align: top;\n",
       "    }\n",
       "\n",
       "    .dataframe thead th {\n",
       "        text-align: right;\n",
       "    }\n",
       "</style>\n",
       "<table border=\"1\" class=\"dataframe\">\n",
       "  <thead>\n",
       "    <tr style=\"text-align: right;\">\n",
       "      <th></th>\n",
       "      <th>market</th>\n",
       "      <th>month</th>\n",
       "      <th>year</th>\n",
       "      <th>quantity</th>\n",
       "      <th>priceMin</th>\n",
       "      <th>priceMax</th>\n",
       "      <th>priceMod</th>\n",
       "      <th>state</th>\n",
       "      <th>city</th>\n",
       "      <th>timeIndex</th>\n",
       "    </tr>\n",
       "    <tr>\n",
       "      <th>date</th>\n",
       "      <th></th>\n",
       "      <th></th>\n",
       "      <th></th>\n",
       "      <th></th>\n",
       "      <th></th>\n",
       "      <th></th>\n",
       "      <th></th>\n",
       "      <th></th>\n",
       "      <th></th>\n",
       "      <th></th>\n",
       "    </tr>\n",
       "  </thead>\n",
       "  <tbody>\n",
       "    <tr>\n",
       "      <th>1996-01-01</th>\n",
       "      <td>LASALGAON(MS)</td>\n",
       "      <td>January</td>\n",
       "      <td>1996</td>\n",
       "      <td>225063</td>\n",
       "      <td>160</td>\n",
       "      <td>257</td>\n",
       "      <td>226</td>\n",
       "      <td>MS</td>\n",
       "      <td>LASALGAON</td>\n",
       "      <td>0 days</td>\n",
       "    </tr>\n",
       "    <tr>\n",
       "      <th>1996-02-01</th>\n",
       "      <td>LASALGAON(MS)</td>\n",
       "      <td>February</td>\n",
       "      <td>1996</td>\n",
       "      <td>196164</td>\n",
       "      <td>133</td>\n",
       "      <td>229</td>\n",
       "      <td>186</td>\n",
       "      <td>MS</td>\n",
       "      <td>LASALGAON</td>\n",
       "      <td>31 days</td>\n",
       "    </tr>\n",
       "    <tr>\n",
       "      <th>1996-03-01</th>\n",
       "      <td>LASALGAON(MS)</td>\n",
       "      <td>March</td>\n",
       "      <td>1996</td>\n",
       "      <td>178992</td>\n",
       "      <td>155</td>\n",
       "      <td>274</td>\n",
       "      <td>243</td>\n",
       "      <td>MS</td>\n",
       "      <td>LASALGAON</td>\n",
       "      <td>60 days</td>\n",
       "    </tr>\n",
       "    <tr>\n",
       "      <th>1996-04-01</th>\n",
       "      <td>LASALGAON(MS)</td>\n",
       "      <td>April</td>\n",
       "      <td>1996</td>\n",
       "      <td>192592</td>\n",
       "      <td>136</td>\n",
       "      <td>279</td>\n",
       "      <td>254</td>\n",
       "      <td>MS</td>\n",
       "      <td>LASALGAON</td>\n",
       "      <td>91 days</td>\n",
       "    </tr>\n",
       "    <tr>\n",
       "      <th>1996-05-01</th>\n",
       "      <td>LASALGAON(MS)</td>\n",
       "      <td>May</td>\n",
       "      <td>1996</td>\n",
       "      <td>237574</td>\n",
       "      <td>154</td>\n",
       "      <td>312</td>\n",
       "      <td>269</td>\n",
       "      <td>MS</td>\n",
       "      <td>LASALGAON</td>\n",
       "      <td>121 days</td>\n",
       "    </tr>\n",
       "  </tbody>\n",
       "</table>\n",
       "</div>"
      ],
      "text/plain": [
       "                   market     month  year  quantity  priceMin  priceMax  \\\n",
       "date                                                                      \n",
       "1996-01-01  LASALGAON(MS)   January  1996    225063       160       257   \n",
       "1996-02-01  LASALGAON(MS)  February  1996    196164       133       229   \n",
       "1996-03-01  LASALGAON(MS)     March  1996    178992       155       274   \n",
       "1996-04-01  LASALGAON(MS)     April  1996    192592       136       279   \n",
       "1996-05-01  LASALGAON(MS)       May  1996    237574       154       312   \n",
       "\n",
       "            priceMod state       city timeIndex  \n",
       "date                                             \n",
       "1996-01-01       226    MS  LASALGAON    0 days  \n",
       "1996-02-01       186    MS  LASALGAON   31 days  \n",
       "1996-03-01       243    MS  LASALGAON   60 days  \n",
       "1996-04-01       254    MS  LASALGAON   91 days  \n",
       "1996-05-01       269    MS  LASALGAON  121 days  "
      ]
     },
     "execution_count": 6,
     "metadata": {},
     "output_type": "execute_result"
    }
   ],
   "source": [
    "df.head()"
   ]
  },
  {
   "cell_type": "markdown",
   "metadata": {},
   "source": [
    "### Q1. Create a dataframe named dfBang containing only the columns \"quantity\",\"priceMod\",\"date\" which have city as Bangalore. Also plot the distribution of priceMod with red color."
   ]
  },
  {
   "cell_type": "code",
   "execution_count": null,
   "metadata": {},
   "outputs": [],
   "source": [
    "def generate():\n",
    "    # your code here\n",
    "    return dfBang\n",
    "dfBang = generate()\n",
    "dfBang.head()"
   ]
  },
  {
   "cell_type": "code",
   "execution_count": null,
   "metadata": {},
   "outputs": [],
   "source": [
    "# Convert to months using the timedelta function\n",
    "dfBang[\"timeIndex\"] =  dfBang[\"timeIndex\"]/np.timedelta64(1, 'M')"
   ]
  },
  {
   "cell_type": "code",
   "execution_count": null,
   "metadata": {},
   "outputs": [],
   "source": [
    "dfBang.timeIndex.head()"
   ]
  },
  {
   "cell_type": "code",
   "execution_count": null,
   "metadata": {},
   "outputs": [],
   "source": [
    "# Round the number to 0\n",
    "dfBang[\"timeIndex\"] = dfBang[\"timeIndex\"].round(0).astype(int)"
   ]
  },
  {
   "cell_type": "code",
   "execution_count": null,
   "metadata": {},
   "outputs": [],
   "source": [
    "dfBang.timeIndex.tail()"
   ]
  },
  {
   "cell_type": "code",
   "execution_count": null,
   "metadata": {},
   "outputs": [],
   "source": [
    "dfBang.priceMod.plot(kind = \"hist\", bins = 30)"
   ]
  },
  {
   "cell_type": "markdown",
   "metadata": {},
   "source": [
    "### Q2. Perform seasonal decomposition on priceMod column with model as \"additive\" , store it in dataframe named decomposed_dataset. Plot it."
   ]
  },
  {
   "cell_type": "code",
   "execution_count": null,
   "metadata": {},
   "outputs": [],
   "source": [
    "from statsmodels.tsa.seasonal import seasonal_decompose\n",
    "def generate():\n",
    "    # your code here\n",
    "    return decomposed_dataset\n",
    "decomposed_dataset = generate()"
   ]
  },
  {
   "cell_type": "markdown",
   "metadata": {},
   "source": [
    "### Q3.   Create a function named rolling_means to plot the rolling means statistics (mean and standard deviation both at rolling window size 12) along with the orignal distribution of given time series column. Below are the color and labels specification.\n",
    "- For orignal distribution of the time series column, take color = 'blue' and label = 'Original'\n",
    "- For distribution of rolling std. deviation of timeSeries_column_name , take color = 'black' and label = 'Rolling Std'\n",
    "- For distribution of rolling mean of timeSeries_column_name , take color = 'red' and label = 'Rolling Mean'<br/>\n",
    "Also, set the title of the plot as 'Rolling Mean & Standard Deviation'."
   ]
  },
  {
   "cell_type": "code",
   "execution_count": null,
   "metadata": {},
   "outputs": [],
   "source": [
    "def rolling_means(timeSeries_column_name):\n",
    "    # your code here"
   ]
  },
  {
   "cell_type": "markdown",
   "metadata": {},
   "source": [
    "### Q4.   Create a function named adf_test to perform the Augmented Dickey-Fuller test on any given timeseries column. Take autolog = 'AIC'. Print out the results of the test, also do their naming(Test Statistic, p-value, Lags Used, Number of Observations Used, Critical Value (1%), Critical Value (5%) and Critical Value(10%) so that you can make clear observation.                     "
   ]
  },
  {
   "cell_type": "code",
   "execution_count": null,
   "metadata": {
    "_uuid": "424d7f23806906f44e793442fdd451987c9b33d7"
   },
   "outputs": [],
   "source": [
    "#Perform Augmented Dickey–Fuller test:\n",
    "def adf_test(timeSeries_column_name):\n",
    "    # your code here"
   ]
  },
  {
   "cell_type": "code",
   "execution_count": null,
   "metadata": {},
   "outputs": [],
   "source": [
    "def test_stationarity(timeSeries_columnName):\n",
    "    rolling_means(timeSeries_columnName)\n",
    "    adf_test(timeSeries_columnName)"
   ]
  },
  {
   "cell_type": "markdown",
   "metadata": {},
   "source": [
    "### Q5. Check the stationarity of priceMod column of the dfBang dataframe using the test_stationarity function created above.               "
   ]
  },
  {
   "cell_type": "code",
   "execution_count": null,
   "metadata": {},
   "outputs": [],
   "source": [
    "def generate():\n",
    "    # your code here\n",
    "    return None\n",
    "generate()"
   ]
  },
  {
   "cell_type": "markdown",
   "metadata": {},
   "source": [
    "### Q6. Add a column named priceModLog to the dfBang dataframe containing the log transformed values of priceMod column. Also plot the distribution of priceModLog."
   ]
  },
  {
   "cell_type": "code",
   "execution_count": null,
   "metadata": {},
   "outputs": [],
   "source": [
    "def generate():\n",
    "    # your code here\n",
    "    return dfBang\n",
    "dfBang = generate()\n",
    "dfBang.head()"
   ]
  },
  {
   "cell_type": "code",
   "execution_count": null,
   "metadata": {},
   "outputs": [],
   "source": [
    "dfBang.priceModLog.plot(kind = \"hist\", bins = 30)"
   ]
  },
  {
   "cell_type": "markdown",
   "metadata": {},
   "source": [
    "### Q7. Check the stationarity of priceModLog column of the dfBang dataframe using the test_stationarity function created above.               "
   ]
  },
  {
   "cell_type": "code",
   "execution_count": null,
   "metadata": {},
   "outputs": [],
   "source": [
    "def generate():\n",
    "    # your code here\n",
    "    return None\n",
    "generate()"
   ]
  },
  {
   "cell_type": "markdown",
   "metadata": {},
   "source": [
    "### Q8. Add a column named priceModLogShift1 to the dfBang dataframe containing the one shifted values of priceModLog column. \n",
    "Also, draw scatter plot with priceModLogShift1 on x axis and priceModLog on y axis and 50 as marker size.<br/>\n",
    "Return the dataframe dfBang after removing null values of priceModLogShift1 column."
   ]
  },
  {
   "cell_type": "code",
   "execution_count": null,
   "metadata": {},
   "outputs": [],
   "source": [
    "def generate():\n",
    "    # your code here\n",
    "    return #your variable\n",
    "dfBang = generate()\n",
    "dfBang.head()"
   ]
  },
  {
   "cell_type": "markdown",
   "metadata": {},
   "source": [
    "### Q9. Check the stationarity of priceModLogShift1 column of the dfBang dataframe using the test_stationarity function created above.               "
   ]
  },
  {
   "cell_type": "code",
   "execution_count": null,
   "metadata": {},
   "outputs": [],
   "source": [
    "def generate():\n",
    "    # your code here\n",
    "    return None\n",
    "generate()"
   ]
  },
  {
   "cell_type": "markdown",
   "metadata": {},
   "source": [
    "### Q10.   Add a column named priceModLogDiff to the dfBang dataframe containing the difference of priceModLog and priceModLogShift1 columns. Plot the distribution of priceModLogDiff."
   ]
  },
  {
   "cell_type": "code",
   "execution_count": null,
   "metadata": {},
   "outputs": [],
   "source": [
    "def generate():\n",
    "    # your code here\n",
    "    return dfBang\n",
    "dfBang = generate()\n",
    "dfBang.head()"
   ]
  },
  {
   "cell_type": "markdown",
   "metadata": {},
   "source": [
    "### Q11. Check the stationarity of priceModLogDiff column of the dfBang dataframe using the test_stationarity function created above.               "
   ]
  },
  {
   "cell_type": "code",
   "execution_count": null,
   "metadata": {},
   "outputs": [],
   "source": [
    "def generate():\n",
    "    # your code here\n",
    "    return None\n",
    "generate()"
   ]
  },
  {
   "cell_type": "markdown",
   "metadata": {},
   "source": [
    "### Q12 a) Create a function named \"evaluate_arima_model\"  to return the aic values for the ARIMA model trained and fitted with given dataset X and arima_order."
   ]
  },
  {
   "cell_type": "code",
   "execution_count": null,
   "metadata": {},
   "outputs": [],
   "source": [
    "# evaluate an ARIMA model for a given order (p,d,q)\n",
    "import warnings\n",
    "warnings.filterwarnings(\"ignore\")\n",
    "from statsmodels.tsa.arima_model import ARIMA\n",
    "def evaluate_arima_model(X, arima_order):\n",
    "    model = ARIMA(X, order=arima_order)\n",
    "    results_ARIMA = model.fit()\n",
    "    #your code here to find aic\n",
    "    return aic"
   ]
  },
  {
   "cell_type": "markdown",
   "metadata": {},
   "source": [
    "### Q12 b) Create a function named \"evaluate_models\" with dataset, p_values, d_values and q_values as arguments. Making use of the evaluate_arima_model created in previous part of the question, print out AIC and the corresponding order for each combination of p,d,q. Also, print out the values of the order of p,d,q which gives the lowest AIC value along with that minimum AIC value. \n",
    "Hint: You'll need to use try and except block to handle Value error. "
   ]
  },
  {
   "cell_type": "code",
   "execution_count": null,
   "metadata": {},
   "outputs": [],
   "source": [
    "# evaluate combinations of p, d and q values for an ARIMA model\n",
    "def evaluate_models(dataset, p_values, d_values, q_values):\n",
    "    best_score, best_cfg = float(\"inf\"), None\n",
    "    for p in p_values:\n",
    "        for d in d_values:\n",
    "            for q in q_values:\n",
    "                order = (p,d,q)\n",
    "                try:\n",
    "                    print(p,d,q)\n",
    "                    # store aic value returned by evaluate_arima_model \n",
    "                    # also find and print out best_score i.e. aic value for best_cfg i.e order\n",
    "                except ValueError:\n",
    "                    best_score, best_cfg = 9999, order\n",
    "                    continue\n",
    "    print('Best ARIMA%s AIC=%.3f' % (best_cfg, best_score))\n",
    "    return None"
   ]
  },
  {
   "cell_type": "markdown",
   "metadata": {},
   "source": [
    "### Q12 c) Call the function \"evaluate_models\" created in the above part passing dfBang.priceModLogDiff, p_values, d_values, q_values as arguments, Set the following ranges for p_values, d_values and q_values:\n",
    "for p_values, [0, 1, 2] <br/>\n",
    "for d_values, [0,1] <br/>\n",
    "for q_values, range(0, 2)<br/>"
   ]
  },
  {
   "cell_type": "code",
   "execution_count": null,
   "metadata": {},
   "outputs": [],
   "source": [
    "def generate():\n",
    "    #your code here\n",
    "    return None\n",
    "generate()"
   ]
  },
  {
   "cell_type": "markdown",
   "metadata": {},
   "source": [
    "### Running the ARIMA Model "
   ]
  },
  {
   "cell_type": "markdown",
   "metadata": {},
   "source": [
    "### Q13. Create and return an ARIMA model trained and fitted with priceModLogDiff and taking order of p,d,q as 2,0,1.  Also, print the number of AR coefficients and the parameters of the model. Also, plot the distribution of fitted values (with black color) and priceModLogDiff (red color)."
   ]
  },
  {
   "cell_type": "code",
   "execution_count": null,
   "metadata": {},
   "outputs": [],
   "source": [
    "from statsmodels.tsa.arima_model import ARIMA\n",
    "def generate():\n",
    "    # your code here\n",
    "    return model, results_ARIMA\n",
    "model, results_ARIMA = generate()"
   ]
  },
  {
   "cell_type": "markdown",
   "metadata": {
    "_uuid": "9aad48b39d784b198a2ceb64f6525d8bf010df78"
   },
   "source": [
    "## Prediction & Reverse transformations of fittedvalues <a name = \"prediction\"></a>"
   ]
  },
  {
   "cell_type": "markdown",
   "metadata": {},
   "source": [
    "### Q14. Store the fitted values in a seies named predictions_ARIMA_diff. Return it."
   ]
  },
  {
   "cell_type": "code",
   "execution_count": null,
   "metadata": {},
   "outputs": [],
   "source": [
    "def generate():\n",
    "    # your code here\n",
    "    return predictions_ARIMA_diff\n",
    "predictions_ARIMA_diff = generate()  \n",
    "predictions_ARIMA_diff.head()"
   ]
  },
  {
   "cell_type": "markdown",
   "metadata": {},
   "source": [
    "### Q15. Return the cumulative sum of the elements of  predictions_ARIMA_diff. Return it."
   ]
  },
  {
   "cell_type": "code",
   "execution_count": null,
   "metadata": {},
   "outputs": [],
   "source": [
    "def generate():\n",
    "    # your code here\n",
    "    return predictions_ARIMA_diff\n",
    "predictions_ARIMA_diff_cumsum = generate()  \n",
    "predictions_ARIMA_diff_cumsum.head()"
   ]
  },
  {
   "cell_type": "markdown",
   "metadata": {},
   "source": [
    "### Q16. Create a series named predictions_ARIMA_log of the same length as that of dfBang and all the elements values equal to the first element of priceModLog also keep the same index as that of dfBang.\n",
    "To this series add predictions_ARIMA_diff_cumsum. Return the obtained series"
   ]
  },
  {
   "cell_type": "code",
   "execution_count": null,
   "metadata": {},
   "outputs": [],
   "source": [
    "def generate():\n",
    "    # your code here\n",
    "    return # your variable\n",
    "predictions_ARIMA_log = generate()\n",
    "predictions_ARIMA_log.head()"
   ]
  },
  {
   "cell_type": "markdown",
   "metadata": {},
   "source": [
    "### Q17. Create and return a series named reverted_back_prediction obtained by calculating the exponential of all elements of predictions_ARIMA_log"
   ]
  },
  {
   "cell_type": "code",
   "execution_count": null,
   "metadata": {},
   "outputs": [],
   "source": [
    "def generate():\n",
    "    # your code here\n",
    "    return # your code here\n",
    "reverted_back_prediction= generate()\n",
    "reverted_back_prediction.head()"
   ]
  },
  {
   "cell_type": "markdown",
   "metadata": {},
   "source": [
    "### Q18. Plot the distribution of priceMod ( with black color ) and reverted_back_prediction ( with red color )"
   ]
  },
  {
   "cell_type": "code",
   "execution_count": null,
   "metadata": {},
   "outputs": [],
   "source": [
    "from matplotlib import pyplot\n",
    "def generate():\n",
    "    # your code here\n",
    "    pyplot.show()\n",
    "generate()"
   ]
  }
 ],
 "metadata": {
  "kernelspec": {
   "display_name": "Python 3",
   "language": "python",
   "name": "python3"
  },
  "language_info": {
   "codemirror_mode": {
    "name": "ipython",
    "version": 3
   },
   "file_extension": ".py",
   "mimetype": "text/x-python",
   "name": "python",
   "nbconvert_exporter": "python",
   "pygments_lexer": "ipython3",
   "version": "3.6.5"
  }
 },
 "nbformat": 4,
 "nbformat_minor": 1
}
